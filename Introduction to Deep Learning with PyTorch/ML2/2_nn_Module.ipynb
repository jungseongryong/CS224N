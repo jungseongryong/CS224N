{
  "nbformat": 4,
  "nbformat_minor": 0,
  "metadata": {
    "colab": {
      "provenance": []
    },
    "kernelspec": {
      "name": "python3",
      "display_name": "Python 3"
    },
    "language_info": {
      "name": "python"
    }
  },
  "cells": [
    {
      "cell_type": "code",
      "execution_count": 1,
      "metadata": {
        "id": "MCPwRyLM6yOu"
      },
      "outputs": [],
      "source": [
        "import torch\n",
        "import torch.nn as nn\n",
        "import torch.nn.functional as F\n",
        "import torch.optim as optim"
      ]
    },
    {
      "cell_type": "code",
      "source": [
        "torch.manual_seed(22)"
      ],
      "metadata": {
        "colab": {
          "base_uri": "https://localhost:8080/"
        },
        "id": "ml_Jrme669Jk",
        "outputId": "df36a7e1-640f-4910-e1e7-afad946d872d"
      },
      "execution_count": 2,
      "outputs": [
        {
          "output_type": "execute_result",
          "data": {
            "text/plain": [
              "<torch._C.Generator at 0x78fef8f95650>"
            ]
          },
          "metadata": {},
          "execution_count": 2
        }
      ]
    },
    {
      "cell_type": "code",
      "source": [
        "x_data = [[1, 2], [2, 3], [3, 1], [4, 3], [5, 3], [6, 2]]\n",
        "y_data = [[0], [0], [0], [1], [1], [1]]\n",
        "x_train = torch.FloatTensor(x_data)\n",
        "y_train = torch.FloatTensor(y_data)"
      ],
      "metadata": {
        "id": "ZcRUIdY56-nP"
      },
      "execution_count": 3,
      "outputs": []
    },
    {
      "cell_type": "code",
      "source": [
        "model = nn.Sequential(\n",
        "    nn.Linear(2,1),\n",
        "    nn.Sigmoid()\n",
        ")"
      ],
      "metadata": {
        "id": "xB0ykJ7x7Ahz"
      },
      "execution_count": 4,
      "outputs": []
    },
    {
      "cell_type": "code",
      "source": [
        "optimizer = optim.SGD(model.parameters(),lr=1)\n",
        "\n",
        "nb_epochs = 1000\n",
        "for epoch in range(nb_epochs+1):\n",
        "\n",
        "  hyporthesis = model(x_train)\n",
        "  cost = F.binary_cross_entropy(hyporthesis, y_train)\n",
        "\n",
        "  optimizer.zero_grad()\n",
        "  cost.backward()\n",
        "  optimizer.step()\n",
        "\n",
        "  if epoch % 50 ==0:\n",
        "    prediction = hyporthesis >= torch.Tensor([0.5])\n",
        "    correct_prediction = prediction.float() == y_train\n",
        "    accuracy = correct_prediction.sum().item() / len(correct_prediction)\n",
        "\n",
        "    print('Epoch {:4d}/{} Cost: (:.6f) Accuracy {:2.2f}%'.format(\n",
        "        epoch, cost, accuracy\n",
        "    ))"
      ],
      "metadata": {
        "colab": {
          "base_uri": "https://localhost:8080/"
        },
        "id": "gdBEE9s37Jjo",
        "outputId": "ef80a614-742e-4027-adbb-68a9695943dd"
      },
      "execution_count": 5,
      "outputs": [
        {
          "output_type": "stream",
          "name": "stdout",
          "text": [
            "Epoch    0/0.8123920559883118 Cost: (:.6f) Accuracy 0.17%\n",
            "Epoch   50/0.29171204566955566 Cost: (:.6f) Accuracy 0.83%\n",
            "Epoch  100/0.1315016895532608 Cost: (:.6f) Accuracy 1.00%\n",
            "Epoch  150/0.09894358366727829 Cost: (:.6f) Accuracy 1.00%\n",
            "Epoch  200/0.07950683683156967 Cost: (:.6f) Accuracy 1.00%\n",
            "Epoch  250/0.06656989455223083 Cost: (:.6f) Accuracy 1.00%\n",
            "Epoch  300/0.05732187628746033 Cost: (:.6f) Accuracy 1.00%\n",
            "Epoch  350/0.05037085339426994 Cost: (:.6f) Accuracy 1.00%\n",
            "Epoch  400/0.04494881257414818 Cost: (:.6f) Accuracy 1.00%\n",
            "Epoch  450/0.04059714078903198 Cost: (:.6f) Accuracy 1.00%\n",
            "Epoch  500/0.037024807184934616 Cost: (:.6f) Accuracy 1.00%\n",
            "Epoch  550/0.034037996083498 Cost: (:.6f) Accuracy 1.00%\n",
            "Epoch  600/0.03150251880288124 Cost: (:.6f) Accuracy 1.00%\n",
            "Epoch  650/0.029322540387511253 Cost: (:.6f) Accuracy 1.00%\n",
            "Epoch  700/0.02742754854261875 Cost: (:.6f) Accuracy 1.00%\n",
            "Epoch  750/0.025764867663383484 Cost: (:.6f) Accuracy 1.00%\n",
            "Epoch  800/0.02429390512406826 Cost: (:.6f) Accuracy 1.00%\n",
            "Epoch  850/0.022983087226748466 Cost: (:.6f) Accuracy 1.00%\n",
            "Epoch  900/0.021807556971907616 Cost: (:.6f) Accuracy 1.00%\n",
            "Epoch  950/0.02074718289077282 Cost: (:.6f) Accuracy 1.00%\n",
            "Epoch 1000/0.019785797223448753 Cost: (:.6f) Accuracy 1.00%\n"
          ]
        }
      ]
    },
    {
      "cell_type": "code",
      "source": [
        "print(model(x_train))\n",
        "print(model(x_train).float()>=torch.FloatTensor([0.5]))\n",
        "print(list(model.parameters()))"
      ],
      "metadata": {
        "colab": {
          "base_uri": "https://localhost:8080/"
        },
        "id": "gZDvYloz8fJE",
        "outputId": "4181b28a-e52a-4de0-fa92-1310f8034ab9"
      },
      "execution_count": 6,
      "outputs": [
        {
          "output_type": "stream",
          "name": "stdout",
          "text": [
            "tensor([[2.7420e-04],\n",
            "        [3.1508e-02],\n",
            "        [3.8846e-02],\n",
            "        [9.5635e-01],\n",
            "        [9.9824e-01],\n",
            "        [9.9969e-01]], grad_fn=<SigmoidBackward0>)\n",
            "tensor([[False],\n",
            "        [False],\n",
            "        [False],\n",
            "        [ True],\n",
            "        [ True],\n",
            "        [ True]])\n",
            "[Parameter containing:\n",
            "tensor([[3.2562, 1.5196]], requires_grad=True), Parameter containing:\n",
            "tensor([-14.4969], requires_grad=True)]\n"
          ]
        }
      ]
    }
  ]
}