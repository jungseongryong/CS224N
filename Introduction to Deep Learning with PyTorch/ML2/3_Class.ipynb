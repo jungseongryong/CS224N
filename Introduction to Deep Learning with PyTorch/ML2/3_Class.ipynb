{
  "nbformat": 4,
  "nbformat_minor": 0,
  "metadata": {
    "colab": {
      "provenance": []
    },
    "kernelspec": {
      "name": "python3",
      "display_name": "Python 3"
    },
    "language_info": {
      "name": "python"
    }
  },
  "cells": [
    {
      "cell_type": "code",
      "execution_count": 1,
      "metadata": {
        "id": "cfBCfzRM-F8_"
      },
      "outputs": [],
      "source": [
        "import torch\n",
        "import torch.nn as nn\n",
        "import torch.nn.functional as F\n",
        "import torch.optim as optim"
      ]
    },
    {
      "cell_type": "code",
      "source": [
        "torch.manual_seed(22)"
      ],
      "metadata": {
        "colab": {
          "base_uri": "https://localhost:8080/"
        },
        "id": "ATu4WtAG-JQw",
        "outputId": "1b30122c-8f13-4a6c-a00f-4eea16a6e179"
      },
      "execution_count": 2,
      "outputs": [
        {
          "output_type": "execute_result",
          "data": {
            "text/plain": [
              "<torch._C.Generator at 0x7f42a0331750>"
            ]
          },
          "metadata": {},
          "execution_count": 2
        }
      ]
    },
    {
      "cell_type": "code",
      "source": [
        "x_data = [[1, 2], [2, 3], [3, 1], [4, 3], [5, 3], [6, 2]]\n",
        "y_data = [[0], [0], [0], [1], [1], [1]]\n",
        "x_train = torch.FloatTensor(x_data)\n",
        "y_train = torch.FloatTensor(y_data)"
      ],
      "metadata": {
        "id": "hiNLjy4f-Ksb"
      },
      "execution_count": 3,
      "outputs": []
    },
    {
      "cell_type": "code",
      "source": [
        "class BinaryClassifier(nn.Module):\n",
        "  def __init__(self):\n",
        "    super().__init__()\n",
        "    self.linear = nn.Linear(2,1)\n",
        "    self.sigmoid = nn.Sigmoid()\n",
        "\n",
        "  def forward(self, x):\n",
        "    return self.sigmoid(self.linear(x))"
      ],
      "metadata": {
        "id": "j_gLR4KA-MAT"
      },
      "execution_count": 4,
      "outputs": []
    },
    {
      "cell_type": "code",
      "source": [
        "model = BinaryClassifier()"
      ],
      "metadata": {
        "id": "E6Ls8mWX-fvo"
      },
      "execution_count": 5,
      "outputs": []
    },
    {
      "cell_type": "code",
      "source": [
        "optimizer = optim.SGD(model.parameters(), lr = 1)\n",
        "\n",
        "nb_epochs = 1000\n",
        "for epoch in range(nb_epochs +1):\n",
        "\n",
        "    # H(x) 계산\n",
        "    hypothesis = model(x_train)\n",
        "\n",
        "    # cost 계산\n",
        "    cost = F.binary_cross_entropy(hypothesis, y_train)\n",
        "\n",
        "    # cost로 H(x) 개선\n",
        "    optimizer.zero_grad()\n",
        "    cost.backward()\n",
        "    optimizer.step()\n",
        "\n",
        "    # 20번마다 로그 출력\n",
        "    if epoch % 10 == 0:\n",
        "        prediction = hypothesis >= torch.FloatTensor([0.5]) # 예측값이 0.5를 넘으면 True로 간주\n",
        "        correct_prediction = prediction.float() == y_train # 실제값과 일치하는 경우만 True로 간주\n",
        "        accuracy = correct_prediction.sum().item() / len(correct_prediction) # 정확도를 계산\n",
        "        print('Epoch {:4d}/{} Cost: {:.6f} Accuracy {:2.2f}%'.format( # 각 에포크마다 정확도를 출력\n",
        "            epoch, nb_epochs, cost.item(), accuracy * 100,\n",
        "        ))"
      ],
      "metadata": {
        "colab": {
          "base_uri": "https://localhost:8080/"
        },
        "id": "aZSRPRve-hYE",
        "outputId": "b7d74a06-7cab-41d2-dabe-9ccc5476257d"
      },
      "execution_count": 6,
      "outputs": [
        {
          "output_type": "stream",
          "name": "stdout",
          "text": [
            "Epoch    0/1000 Cost: 0.812392 Accuracy 16.67%\n",
            "Epoch   10/1000 Cost: 1.055695 Accuracy 66.67%\n",
            "Epoch   20/1000 Cost: 0.556476 Accuracy 83.33%\n",
            "Epoch   30/1000 Cost: 0.455880 Accuracy 83.33%\n",
            "Epoch   40/1000 Cost: 0.371141 Accuracy 83.33%\n",
            "Epoch   50/1000 Cost: 0.291712 Accuracy 83.33%\n",
            "Epoch   60/1000 Cost: 0.222724 Accuracy 83.33%\n",
            "Epoch   70/1000 Cost: 0.175134 Accuracy 100.00%\n",
            "Epoch   80/1000 Cost: 0.152492 Accuracy 100.00%\n",
            "Epoch   90/1000 Cost: 0.140858 Accuracy 100.00%\n",
            "Epoch  100/1000 Cost: 0.131502 Accuracy 100.00%\n",
            "Epoch  110/1000 Cost: 0.123342 Accuracy 100.00%\n",
            "Epoch  120/1000 Cost: 0.116153 Accuracy 100.00%\n",
            "Epoch  130/1000 Cost: 0.109772 Accuracy 100.00%\n",
            "Epoch  140/1000 Cost: 0.104070 Accuracy 100.00%\n",
            "Epoch  150/1000 Cost: 0.098944 Accuracy 100.00%\n",
            "Epoch  160/1000 Cost: 0.094310 Accuracy 100.00%\n",
            "Epoch  170/1000 Cost: 0.090101 Accuracy 100.00%\n",
            "Epoch  180/1000 Cost: 0.086261 Accuracy 100.00%\n",
            "Epoch  190/1000 Cost: 0.082742 Accuracy 100.00%\n",
            "Epoch  200/1000 Cost: 0.079507 Accuracy 100.00%\n",
            "Epoch  210/1000 Cost: 0.076521 Accuracy 100.00%\n",
            "Epoch  220/1000 Cost: 0.073757 Accuracy 100.00%\n",
            "Epoch  230/1000 Cost: 0.071190 Accuracy 100.00%\n",
            "Epoch  240/1000 Cost: 0.068800 Accuracy 100.00%\n",
            "Epoch  250/1000 Cost: 0.066570 Accuracy 100.00%\n",
            "Epoch  260/1000 Cost: 0.064483 Accuracy 100.00%\n",
            "Epoch  270/1000 Cost: 0.062526 Accuracy 100.00%\n",
            "Epoch  280/1000 Cost: 0.060687 Accuracy 100.00%\n",
            "Epoch  290/1000 Cost: 0.058955 Accuracy 100.00%\n",
            "Epoch  300/1000 Cost: 0.057322 Accuracy 100.00%\n",
            "Epoch  310/1000 Cost: 0.055779 Accuracy 100.00%\n",
            "Epoch  320/1000 Cost: 0.054318 Accuracy 100.00%\n",
            "Epoch  330/1000 Cost: 0.052934 Accuracy 100.00%\n",
            "Epoch  340/1000 Cost: 0.051620 Accuracy 100.00%\n",
            "Epoch  350/1000 Cost: 0.050371 Accuracy 100.00%\n",
            "Epoch  360/1000 Cost: 0.049182 Accuracy 100.00%\n",
            "Epoch  370/1000 Cost: 0.048049 Accuracy 100.00%\n",
            "Epoch  380/1000 Cost: 0.046968 Accuracy 100.00%\n",
            "Epoch  390/1000 Cost: 0.045936 Accuracy 100.00%\n",
            "Epoch  400/1000 Cost: 0.044949 Accuracy 100.00%\n",
            "Epoch  410/1000 Cost: 0.044004 Accuracy 100.00%\n",
            "Epoch  420/1000 Cost: 0.043099 Accuracy 100.00%\n",
            "Epoch  430/1000 Cost: 0.042231 Accuracy 100.00%\n",
            "Epoch  440/1000 Cost: 0.041398 Accuracy 100.00%\n",
            "Epoch  450/1000 Cost: 0.040597 Accuracy 100.00%\n",
            "Epoch  460/1000 Cost: 0.039828 Accuracy 100.00%\n",
            "Epoch  470/1000 Cost: 0.039087 Accuracy 100.00%\n",
            "Epoch  480/1000 Cost: 0.038374 Accuracy 100.00%\n",
            "Epoch  490/1000 Cost: 0.037687 Accuracy 100.00%\n",
            "Epoch  500/1000 Cost: 0.037025 Accuracy 100.00%\n",
            "Epoch  510/1000 Cost: 0.036386 Accuracy 100.00%\n",
            "Epoch  520/1000 Cost: 0.035768 Accuracy 100.00%\n",
            "Epoch  530/1000 Cost: 0.035172 Accuracy 100.00%\n",
            "Epoch  540/1000 Cost: 0.034596 Accuracy 100.00%\n",
            "Epoch  550/1000 Cost: 0.034038 Accuracy 100.00%\n",
            "Epoch  560/1000 Cost: 0.033498 Accuracy 100.00%\n",
            "Epoch  570/1000 Cost: 0.032976 Accuracy 100.00%\n",
            "Epoch  580/1000 Cost: 0.032469 Accuracy 100.00%\n",
            "Epoch  590/1000 Cost: 0.031979 Accuracy 100.00%\n",
            "Epoch  600/1000 Cost: 0.031503 Accuracy 100.00%\n",
            "Epoch  610/1000 Cost: 0.031041 Accuracy 100.00%\n",
            "Epoch  620/1000 Cost: 0.030592 Accuracy 100.00%\n",
            "Epoch  630/1000 Cost: 0.030157 Accuracy 100.00%\n",
            "Epoch  640/1000 Cost: 0.029734 Accuracy 100.00%\n",
            "Epoch  650/1000 Cost: 0.029323 Accuracy 100.00%\n",
            "Epoch  660/1000 Cost: 0.028923 Accuracy 100.00%\n",
            "Epoch  670/1000 Cost: 0.028534 Accuracy 100.00%\n",
            "Epoch  680/1000 Cost: 0.028155 Accuracy 100.00%\n",
            "Epoch  690/1000 Cost: 0.027787 Accuracy 100.00%\n",
            "Epoch  700/1000 Cost: 0.027428 Accuracy 100.00%\n",
            "Epoch  710/1000 Cost: 0.027078 Accuracy 100.00%\n",
            "Epoch  720/1000 Cost: 0.026737 Accuracy 100.00%\n",
            "Epoch  730/1000 Cost: 0.026405 Accuracy 100.00%\n",
            "Epoch  740/1000 Cost: 0.026081 Accuracy 100.00%\n",
            "Epoch  750/1000 Cost: 0.025765 Accuracy 100.00%\n",
            "Epoch  760/1000 Cost: 0.025456 Accuracy 100.00%\n",
            "Epoch  770/1000 Cost: 0.025155 Accuracy 100.00%\n",
            "Epoch  780/1000 Cost: 0.024861 Accuracy 100.00%\n",
            "Epoch  790/1000 Cost: 0.024574 Accuracy 100.00%\n",
            "Epoch  800/1000 Cost: 0.024294 Accuracy 100.00%\n",
            "Epoch  810/1000 Cost: 0.024020 Accuracy 100.00%\n",
            "Epoch  820/1000 Cost: 0.023752 Accuracy 100.00%\n",
            "Epoch  830/1000 Cost: 0.023490 Accuracy 100.00%\n",
            "Epoch  840/1000 Cost: 0.023234 Accuracy 100.00%\n",
            "Epoch  850/1000 Cost: 0.022983 Accuracy 100.00%\n",
            "Epoch  860/1000 Cost: 0.022738 Accuracy 100.00%\n",
            "Epoch  870/1000 Cost: 0.022498 Accuracy 100.00%\n",
            "Epoch  880/1000 Cost: 0.022263 Accuracy 100.00%\n",
            "Epoch  890/1000 Cost: 0.022033 Accuracy 100.00%\n",
            "Epoch  900/1000 Cost: 0.021808 Accuracy 100.00%\n",
            "Epoch  910/1000 Cost: 0.021587 Accuracy 100.00%\n",
            "Epoch  920/1000 Cost: 0.021371 Accuracy 100.00%\n",
            "Epoch  930/1000 Cost: 0.021159 Accuracy 100.00%\n",
            "Epoch  940/1000 Cost: 0.020951 Accuracy 100.00%\n",
            "Epoch  950/1000 Cost: 0.020747 Accuracy 100.00%\n",
            "Epoch  960/1000 Cost: 0.020547 Accuracy 100.00%\n",
            "Epoch  970/1000 Cost: 0.020352 Accuracy 100.00%\n",
            "Epoch  980/1000 Cost: 0.020159 Accuracy 100.00%\n",
            "Epoch  990/1000 Cost: 0.019971 Accuracy 100.00%\n",
            "Epoch 1000/1000 Cost: 0.019786 Accuracy 100.00%\n"
          ]
        }
      ]
    }
  ]
}