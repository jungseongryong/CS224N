{
  "nbformat": 4,
  "nbformat_minor": 0,
  "metadata": {
    "colab": {
      "provenance": []
    },
    "kernelspec": {
      "name": "python3",
      "display_name": "Python 3"
    },
    "language_info": {
      "name": "python"
    }
  },
  "cells": [
    {
      "cell_type": "code",
      "execution_count": 1,
      "metadata": {
        "id": "KSg9zg-YdfXq"
      },
      "outputs": [],
      "source": [
        "import numpy as np\n",
        "timesteps = 10\n",
        "input_size = 4\n",
        "hidden_size = 8\n",
        "\n",
        "inputs = np.random.random((timesteps, input_size))\n",
        "\n",
        "hidden_state_t = np.zeros((hidden_size,))"
      ]
    },
    {
      "cell_type": "code",
      "source": [
        "print(hidden_state_t)"
      ],
      "metadata": {
        "colab": {
          "base_uri": "https://localhost:8080/"
        },
        "id": "tr5L8DMHd-SI",
        "outputId": "418d034a-7313-4c17-a4b4-30df97fc3fdd"
      },
      "execution_count": 2,
      "outputs": [
        {
          "output_type": "stream",
          "name": "stdout",
          "text": [
            "[0. 0. 0. 0. 0. 0. 0. 0.]\n"
          ]
        }
      ]
    },
    {
      "cell_type": "code",
      "source": [
        "Wx = np.random.random((hidden_size, input_size))\n",
        "Wh = np.random.random((hidden_size, hidden_size))\n",
        "b = np.random.random((hidden_size,))"
      ],
      "metadata": {
        "id": "8wJZ_YNAeBjj"
      },
      "execution_count": 3,
      "outputs": []
    },
    {
      "cell_type": "code",
      "source": [
        "print(np.shape(Wx))\n",
        "print(np.shape(Wh))\n",
        "print(np.shape(b))"
      ],
      "metadata": {
        "colab": {
          "base_uri": "https://localhost:8080/"
        },
        "id": "05KYxHQheZsn",
        "outputId": "72a73e3a-d519-443c-e21a-230f7cff2b51"
      },
      "execution_count": 4,
      "outputs": [
        {
          "output_type": "stream",
          "name": "stdout",
          "text": [
            "(8, 4)\n",
            "(8, 8)\n",
            "(8,)\n"
          ]
        }
      ]
    },
    {
      "cell_type": "code",
      "source": [
        "total_hidden_states = []\n",
        "\n",
        "# 메모리 셀 동작\n",
        "for input_t in inputs: # 각 시점에 따라서 입력값이 입력됨.\n",
        "  output_t = np.tanh(np.dot(Wx,input_t) + np.dot(Wh,hidden_state_t) + b) # Wx * Xt + Wh * Ht-1 + b(bias)\n",
        "  total_hidden_states.append(list(output_t)) # 각 시점의 은닉 상태의 값을 계속해서 축적\n",
        "  print(np.shape(total_hidden_states)) # 각 시점 t별 메모리 셀의 출력의 크기는 (timestep, output_dim)\n",
        "  hidden_state_t = output_t\n",
        "\n",
        "total_hidden_states = np.stack(total_hidden_states, axis = 0)\n",
        "# 출력 시 값을 깔끔하게 해준다.\n",
        "\n",
        "print(total_hidden_states) # (timesteps, output_dim)의 크기. 이 경우 (10, 8)의 크기를 가지는 메모리 셀의 2D 텐서를 출력."
      ],
      "metadata": {
        "colab": {
          "base_uri": "https://localhost:8080/"
        },
        "id": "xBjxhqr9ebHU",
        "outputId": "5d936be2-9b5a-4336-c176-5d5ad10ba3a4"
      },
      "execution_count": 5,
      "outputs": [
        {
          "output_type": "stream",
          "name": "stdout",
          "text": [
            "(1, 8)\n",
            "(2, 8)\n",
            "(3, 8)\n",
            "(4, 8)\n",
            "(5, 8)\n",
            "(6, 8)\n",
            "(7, 8)\n",
            "(8, 8)\n",
            "(9, 8)\n",
            "(10, 8)\n",
            "[[0.95320691 0.85930952 0.98152856 0.99538569 0.98298161 0.92166448\n",
            "  0.97299339 0.9656496 ]\n",
            " [0.99998366 0.99999558 0.99997575 0.99998043 0.99990753 0.99998959\n",
            "  0.99999011 0.99996472]\n",
            " [0.99995047 0.99999603 0.99990806 0.99993822 0.99957577 0.9999751\n",
            "  0.9999682  0.99992721]\n",
            " [0.99998643 0.99999711 0.99997334 0.99998957 0.99990306 0.99998708\n",
            "  0.99998729 0.99997757]\n",
            " [0.99995755 0.99999648 0.99993008 0.99994563 0.99964827 0.99998222\n",
            "  0.9999761  0.99992743]\n",
            " [0.99998416 0.99999757 0.9999687  0.99998824 0.99983468 0.99999093\n",
            "  0.99998741 0.99994736]\n",
            " [0.99993097 0.99999574 0.99988031 0.99989223 0.99937678 0.99997325\n",
            "  0.99996312 0.99990236]\n",
            " [0.99991875 0.9999957  0.99989558 0.99984888 0.99949433 0.99997599\n",
            "  0.99996765 0.99990876]\n",
            " [0.99995777 0.99999678 0.99993625 0.99993028 0.99956382 0.99998778\n",
            "  0.99998124 0.99990916]\n",
            " [0.99994666 0.99999568 0.99991307 0.99989599 0.99954595 0.99997705\n",
            "  0.99997294 0.99994305]]\n"
          ]
        }
      ]
    },
    {
      "cell_type": "code",
      "source": [
        "import torch\n",
        "import torch.nn as nn"
      ],
      "metadata": {
        "id": "fzxJJkA_ew4X"
      },
      "execution_count": 6,
      "outputs": []
    },
    {
      "cell_type": "code",
      "source": [
        "input_size = 5\n",
        "hidden_size = 8"
      ],
      "metadata": {
        "id": "jbZcEvUVfYgV"
      },
      "execution_count": 7,
      "outputs": []
    },
    {
      "cell_type": "code",
      "source": [
        "inputs = torch.Tensor(1,10,5)"
      ],
      "metadata": {
        "id": "JJYggZGefbah"
      },
      "execution_count": 8,
      "outputs": []
    },
    {
      "cell_type": "code",
      "source": [
        "cell = nn.RNN(input_size, hidden_size, batch_first = True)"
      ],
      "metadata": {
        "id": "nFidVxxzfebm"
      },
      "execution_count": 9,
      "outputs": []
    },
    {
      "cell_type": "code",
      "source": [
        "outputs, _status = cell(inputs)"
      ],
      "metadata": {
        "id": "e_QQKdnUfqyl"
      },
      "execution_count": 10,
      "outputs": []
    },
    {
      "cell_type": "code",
      "source": [
        "print(outputs.shape)"
      ],
      "metadata": {
        "colab": {
          "base_uri": "https://localhost:8080/"
        },
        "id": "XEmAOADrftjo",
        "outputId": "58091f56-6f9a-4132-f024-e4fae9d8e05d"
      },
      "execution_count": 11,
      "outputs": [
        {
          "output_type": "stream",
          "name": "stdout",
          "text": [
            "torch.Size([1, 10, 8])\n"
          ]
        }
      ]
    },
    {
      "cell_type": "code",
      "source": [
        "print(_status.shape)"
      ],
      "metadata": {
        "colab": {
          "base_uri": "https://localhost:8080/"
        },
        "id": "m2_-e8zZfzYo",
        "outputId": "f0129954-f31e-4ac5-f2ab-700b83b3a5e1"
      },
      "execution_count": 12,
      "outputs": [
        {
          "output_type": "stream",
          "name": "stdout",
          "text": [
            "torch.Size([1, 1, 8])\n"
          ]
        }
      ]
    },
    {
      "cell_type": "code",
      "source": [
        "inputs = torch.Tensor(1,10,5)"
      ],
      "metadata": {
        "id": "VRyeo-0Rf109"
      },
      "execution_count": 13,
      "outputs": []
    },
    {
      "cell_type": "code",
      "source": [
        "cell = nn.RNN(input_size = 5, hidden_size=8, num_layers=2, batch_first=True)"
      ],
      "metadata": {
        "id": "KFcJtidei1mw"
      },
      "execution_count": 14,
      "outputs": []
    },
    {
      "cell_type": "code",
      "source": [
        "outputs, _status = cell(inputs)"
      ],
      "metadata": {
        "id": "kZiCqL_1i_8w"
      },
      "execution_count": 15,
      "outputs": []
    },
    {
      "cell_type": "code",
      "source": [
        "print(outputs.shape)"
      ],
      "metadata": {
        "colab": {
          "base_uri": "https://localhost:8080/"
        },
        "id": "khaMr11NjG2K",
        "outputId": "dbd5eccf-0206-4f68-91d3-6ead6d04ed84"
      },
      "execution_count": 16,
      "outputs": [
        {
          "output_type": "stream",
          "name": "stdout",
          "text": [
            "torch.Size([1, 10, 8])\n"
          ]
        }
      ]
    },
    {
      "cell_type": "code",
      "source": [
        "print(_status.shape)"
      ],
      "metadata": {
        "colab": {
          "base_uri": "https://localhost:8080/"
        },
        "id": "9hxnjKQrjIRY",
        "outputId": "c8018fbb-66e6-494b-d5cb-7f1a2be6d38f"
      },
      "execution_count": 17,
      "outputs": [
        {
          "output_type": "stream",
          "name": "stdout",
          "text": [
            "torch.Size([2, 1, 8])\n"
          ]
        }
      ]
    },
    {
      "cell_type": "code",
      "source": [
        "inputs = torch.Tensor(1,10,5)"
      ],
      "metadata": {
        "id": "JUezPg0FjJR3"
      },
      "execution_count": 18,
      "outputs": []
    },
    {
      "cell_type": "code",
      "source": [
        "cell = nn.RNN(input_size = 5, hidden_size=8, num_layers=2, batch_first=True, bidirectional=True)"
      ],
      "metadata": {
        "id": "dRnQ2FC5jMO8"
      },
      "execution_count": 19,
      "outputs": []
    },
    {
      "cell_type": "code",
      "source": [
        "outputs, _status = cell(inputs)"
      ],
      "metadata": {
        "id": "Y41EVhFtjX_B"
      },
      "execution_count": 20,
      "outputs": []
    },
    {
      "cell_type": "code",
      "source": [
        "print(outputs.shape)"
      ],
      "metadata": {
        "colab": {
          "base_uri": "https://localhost:8080/"
        },
        "id": "WSj8MRaojbly",
        "outputId": "65f25051-6eef-4426-a0ae-d790ba5d8bd1"
      },
      "execution_count": 21,
      "outputs": [
        {
          "output_type": "stream",
          "name": "stdout",
          "text": [
            "torch.Size([1, 10, 16])\n"
          ]
        }
      ]
    },
    {
      "cell_type": "code",
      "source": [
        "print(_status.shape)"
      ],
      "metadata": {
        "colab": {
          "base_uri": "https://localhost:8080/"
        },
        "id": "LXhsM2w4jdoF",
        "outputId": "e6b2551f-d294-46d8-db44-d39d783b2140"
      },
      "execution_count": 22,
      "outputs": [
        {
          "output_type": "stream",
          "name": "stdout",
          "text": [
            "torch.Size([4, 1, 8])\n"
          ]
        }
      ]
    }
  ]
}