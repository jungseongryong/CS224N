{
  "nbformat": 4,
  "nbformat_minor": 0,
  "metadata": {
    "colab": {
      "provenance": []
    },
    "kernelspec": {
      "name": "python3",
      "display_name": "Python 3"
    },
    "language_info": {
      "name": "python"
    }
  },
  "cells": [
    {
      "cell_type": "code",
      "execution_count": 3,
      "metadata": {
        "id": "voA3lUnthxmE"
      },
      "outputs": [],
      "source": [
        "import torch\n",
        "import torch.nn as nn\n",
        "import torch.nn.functional as F"
      ]
    },
    {
      "cell_type": "code",
      "source": [
        "torch.manual_seed(22)"
      ],
      "metadata": {
        "id": "1Zeg2mqSh0kv",
        "colab": {
          "base_uri": "https://localhost:8080/"
        },
        "outputId": "e35ce09e-0994-4223-ec9e-94aa293f8696"
      },
      "execution_count": 4,
      "outputs": [
        {
          "output_type": "execute_result",
          "data": {
            "text/plain": [
              "<torch._C.Generator at 0x7d1f58231850>"
            ]
          },
          "metadata": {},
          "execution_count": 4
        }
      ]
    },
    {
      "cell_type": "code",
      "source": [
        "# 데이터\n",
        "x_train = torch.FloatTensor([[1], [2], [3]])\n",
        "y_train = torch.FloatTensor([[2], [4], [6]])"
      ],
      "metadata": {
        "id": "mltDHfT1iJQF"
      },
      "execution_count": 5,
      "outputs": []
    },
    {
      "cell_type": "code",
      "source": [
        "# 모델을 선언 및 초기화. 단순 선형 회귀이므로 input_dim=1, output_dim=1.\n",
        "model = nn.Linear(1,1)"
      ],
      "metadata": {
        "id": "h9EmSt0riLI4"
      },
      "execution_count": 6,
      "outputs": []
    },
    {
      "cell_type": "code",
      "source": [
        "print(list(model.parameters()))"
      ],
      "metadata": {
        "colab": {
          "base_uri": "https://localhost:8080/"
        },
        "id": "myf_QePriOUw",
        "outputId": "b9388b56-28d2-47ce-9405-8035c0dae4d3"
      },
      "execution_count": 7,
      "outputs": [
        {
          "output_type": "stream",
          "name": "stdout",
          "text": [
            "[Parameter containing:\n",
            "tensor([[-0.2682]], requires_grad=True), Parameter containing:\n",
            "tensor([0.4050], requires_grad=True)]\n"
          ]
        }
      ]
    },
    {
      "cell_type": "code",
      "source": [
        "# optimizer 설정. 경사 하강법 SGD를 사용하고 learning rate를 의미하는 lr은 0.01\n",
        "optimizer = torch.optim.SGD(model.parameters(), lr=0.01)"
      ],
      "metadata": {
        "id": "zLwJGPwfiPiW"
      },
      "execution_count": 8,
      "outputs": []
    },
    {
      "cell_type": "code",
      "source": [
        "# 전체 훈련 데이터에 대해 경사 하강법을 2,000회 반복\n",
        "nb_epochs = 2000\n",
        "for epoch in range(nb_epochs+1):\n",
        "\n",
        "    # H(x) 계산\n",
        "    prediction = model(x_train)\n",
        "\n",
        "    # cost 계산\n",
        "    cost = F.mse_loss(prediction, y_train) # <== 파이토치에서 제공하는 평균 제곱 오차 함수\n",
        "\n",
        "    # cost로 H(x) 개선하는 부분\n",
        "    # gradient를 0으로 초기화\n",
        "    optimizer.zero_grad()\n",
        "    # 비용 함수를 미분하여 gradient 계산\n",
        "    cost.backward() # backward 연산\n",
        "    # W와 b를 업데이트\n",
        "    optimizer.step()\n",
        "\n",
        "    if epoch % 100 == 0:\n",
        "    # 100번마다 로그 출력\n",
        "      print('Epoch {:4d}/{} Cost: {:.6f}'.format(\n",
        "          epoch, nb_epochs, cost.item()\n",
        "      ))"
      ],
      "metadata": {
        "colab": {
          "base_uri": "https://localhost:8080/"
        },
        "id": "R7Favn1NiRAp",
        "outputId": "71d2acc1-7471-48c7-b893-05446861b335"
      },
      "execution_count": 9,
      "outputs": [
        {
          "output_type": "stream",
          "name": "stdout",
          "text": [
            "Epoch    0/2000 Cost: 20.498011\n",
            "Epoch  100/2000 Cost: 0.122468\n",
            "Epoch  200/2000 Cost: 0.075678\n",
            "Epoch  300/2000 Cost: 0.046764\n",
            "Epoch  400/2000 Cost: 0.028897\n",
            "Epoch  500/2000 Cost: 0.017857\n",
            "Epoch  600/2000 Cost: 0.011034\n",
            "Epoch  700/2000 Cost: 0.006819\n",
            "Epoch  800/2000 Cost: 0.004213\n",
            "Epoch  900/2000 Cost: 0.002604\n",
            "Epoch 1000/2000 Cost: 0.001609\n",
            "Epoch 1100/2000 Cost: 0.000994\n",
            "Epoch 1200/2000 Cost: 0.000614\n",
            "Epoch 1300/2000 Cost: 0.000380\n",
            "Epoch 1400/2000 Cost: 0.000235\n",
            "Epoch 1500/2000 Cost: 0.000145\n",
            "Epoch 1600/2000 Cost: 0.000090\n",
            "Epoch 1700/2000 Cost: 0.000055\n",
            "Epoch 1800/2000 Cost: 0.000034\n",
            "Epoch 1900/2000 Cost: 0.000021\n",
            "Epoch 2000/2000 Cost: 0.000013\n"
          ]
        }
      ]
    },
    {
      "cell_type": "code",
      "source": [
        "import torch\n",
        "import torch.nn as nn\n",
        "import torch.nn.functional as F"
      ],
      "metadata": {
        "id": "ilLoUccFiSnz"
      },
      "execution_count": 10,
      "outputs": []
    },
    {
      "cell_type": "code",
      "source": [
        "torch.manual_seed(22)"
      ],
      "metadata": {
        "colab": {
          "base_uri": "https://localhost:8080/"
        },
        "id": "KgLsl00EiV-0",
        "outputId": "123ca8f1-b783-4b3a-8ca5-f46e2ddb12ab"
      },
      "execution_count": 11,
      "outputs": [
        {
          "output_type": "execute_result",
          "data": {
            "text/plain": [
              "<torch._C.Generator at 0x7d1f58231850>"
            ]
          },
          "metadata": {},
          "execution_count": 11
        }
      ]
    },
    {
      "cell_type": "code",
      "source": [
        "# 데이터\n",
        "x_train = torch.FloatTensor([[73, 80, 75],\n",
        "                             [93, 88, 93],\n",
        "                             [89, 91, 90],\n",
        "                             [96, 98, 100],\n",
        "                             [73, 66, 70]])\n",
        "y_train = torch.FloatTensor([[152], [185], [180], [196], [142]])"
      ],
      "metadata": {
        "id": "03hk-2CYiXpx"
      },
      "execution_count": 12,
      "outputs": []
    },
    {
      "cell_type": "code",
      "source": [
        "# 모델을 선언 및 초기화. 다중 선형 회귀이므로 input_dim=3, output_dim=1.\n",
        "model = nn.Linear(3,1)"
      ],
      "metadata": {
        "id": "dCf0D89biZGS"
      },
      "execution_count": 13,
      "outputs": []
    },
    {
      "cell_type": "code",
      "source": [
        "print(list(model.parameters()))"
      ],
      "metadata": {
        "colab": {
          "base_uri": "https://localhost:8080/"
        },
        "id": "W_1fkgy2iaqn",
        "outputId": "611bd89b-73d4-4764-97fb-289fa30d88a5"
      },
      "execution_count": 14,
      "outputs": [
        {
          "output_type": "stream",
          "name": "stdout",
          "text": [
            "[Parameter containing:\n",
            "tensor([[-0.1548,  0.2339, -0.2190]], requires_grad=True), Parameter containing:\n",
            "tensor([-0.5661], requires_grad=True)]\n"
          ]
        }
      ]
    },
    {
      "cell_type": "code",
      "source": [
        "optimizer = torch.optim.SGD(model.parameters(), lr=1e-5)"
      ],
      "metadata": {
        "id": "EHNPeQJ3ib8z"
      },
      "execution_count": 15,
      "outputs": []
    },
    {
      "cell_type": "code",
      "source": [
        "nb_epochs = 2000\n",
        "for epoch in range(nb_epochs+1):\n",
        "\n",
        "    # H(x) 계산\n",
        "    prediction = model(x_train)\n",
        "    # model(x_train)은 model.forward(x_train)와 동일함.\n",
        "\n",
        "    # cost 계산\n",
        "    cost = F.mse_loss(prediction, y_train) # <== 파이토치에서 제공하는 평균 제곱 오차 함수\n",
        "\n",
        "    # cost로 H(x) 개선하는 부분\n",
        "    # gradient를 0으로 초기화\n",
        "    optimizer.zero_grad()\n",
        "    # 비용 함수를 미분하여 gradient 계산\n",
        "    cost.backward()\n",
        "    # W와 b를 업데이트\n",
        "    optimizer.step()\n",
        "\n",
        "    if epoch % 100 == 0:\n",
        "    # 100번마다 로그 출력\n",
        "      print('Epoch {:4d}/{} Cost: {:.6f}'.format(\n",
        "          epoch, nb_epochs, cost.item()\n",
        "      ))"
      ],
      "metadata": {
        "colab": {
          "base_uri": "https://localhost:8080/"
        },
        "id": "GQzSYnG6id2s",
        "outputId": "6c1238de-dfd3-4508-d01a-01d54761878f"
      },
      "execution_count": 16,
      "outputs": [
        {
          "output_type": "stream",
          "name": "stdout",
          "text": [
            "Epoch    0/2000 Cost: 34218.269531\n",
            "Epoch  100/2000 Cost: 5.249139\n",
            "Epoch  200/2000 Cost: 4.986011\n",
            "Epoch  300/2000 Cost: 4.736746\n",
            "Epoch  400/2000 Cost: 4.500576\n",
            "Epoch  500/2000 Cost: 4.276866\n",
            "Epoch  600/2000 Cost: 4.064926\n",
            "Epoch  700/2000 Cost: 3.864183\n",
            "Epoch  800/2000 Cost: 3.673974\n",
            "Epoch  900/2000 Cost: 3.493804\n",
            "Epoch 1000/2000 Cost: 3.323111\n",
            "Epoch 1100/2000 Cost: 3.161422\n",
            "Epoch 1200/2000 Cost: 3.008219\n",
            "Epoch 1300/2000 Cost: 2.863081\n",
            "Epoch 1400/2000 Cost: 2.725584\n",
            "Epoch 1500/2000 Cost: 2.595313\n",
            "Epoch 1600/2000 Cost: 2.471924\n",
            "Epoch 1700/2000 Cost: 2.354998\n",
            "Epoch 1800/2000 Cost: 2.244226\n",
            "Epoch 1900/2000 Cost: 2.139297\n",
            "Epoch 2000/2000 Cost: 2.039867\n"
          ]
        }
      ]
    }
  ]
}