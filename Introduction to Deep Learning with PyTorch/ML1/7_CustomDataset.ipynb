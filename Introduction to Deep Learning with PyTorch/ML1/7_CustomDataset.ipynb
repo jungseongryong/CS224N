{
  "nbformat": 4,
  "nbformat_minor": 0,
  "metadata": {
    "colab": {
      "provenance": []
    },
    "kernelspec": {
      "name": "python3",
      "display_name": "Python 3"
    },
    "language_info": {
      "name": "python"
    }
  },
  "cells": [
    {
      "cell_type": "code",
      "execution_count": 1,
      "metadata": {
        "id": "2e1_yDFRaRm-"
      },
      "outputs": [],
      "source": [
        "import torch\n",
        "import torch.nn as nn\n",
        "import torch.nn.functional as F\n",
        "from torch.utils.data import Dataset\n",
        "from torch.utils.data import DataLoader"
      ]
    },
    {
      "cell_type": "code",
      "source": [
        "class CustomDataset(Dataset):\n",
        "  def __init__(self):\n",
        "    self.x_data = [[73, 80, 75],\n",
        "                   [93, 88, 93],\n",
        "                   [89, 91, 90],\n",
        "                   [96, 98, 100],\n",
        "                   [73, 66, 70]]\n",
        "    self.y_data = [[152], [185], [180], [196], [142]]\n",
        "\n",
        "  def __len__(self):\n",
        "    return len(self.x_data)\n",
        "\n",
        "  def __getitem__(self, idx):\n",
        "    x = torch.FloatTensor(self.x_data[idx])\n",
        "    y = torch.FloatTensor(self.y_data[idx])\n",
        "    return x, y"
      ],
      "metadata": {
        "id": "JOcdwhKEakqU"
      },
      "execution_count": 5,
      "outputs": []
    },
    {
      "cell_type": "code",
      "source": [
        "dataset = CustomDataset()\n",
        "dataloader = DataLoader(dataset, 2, shuffle = True)"
      ],
      "metadata": {
        "id": "yB-v7AGgbdnS"
      },
      "execution_count": 6,
      "outputs": []
    },
    {
      "cell_type": "code",
      "source": [
        "model = torch.nn.Linear(3,1)\n",
        "optimizer = torch.optim.SGD(model.parameters(), lr=1e-5)"
      ],
      "metadata": {
        "id": "9sStNgKRbrZx"
      },
      "execution_count": 7,
      "outputs": []
    },
    {
      "cell_type": "code",
      "source": [
        "nb_epochs = 20\n",
        "\n",
        "for epoch in range(nb_epochs+1):\n",
        "  for batch_idx, samples in enumerate(dataloader):\n",
        "\n",
        "    x_train, y_train = samples\n",
        "    prediction = model(x_train)\n",
        "    cost = F.mse_loss(prediction, y_train)\n",
        "\n",
        "    optimizer.zero_grad()\n",
        "    cost.backward()\n",
        "    optimizer.step()\n",
        "\n",
        "    print('Epoch {:4d}/{} Batch {}/{} Cost: {:.6f}'.format(\n",
        "        epoch, nb_epochs, batch_idx+1, len(dataloader),\n",
        "        cost.item()\n",
        "        ))"
      ],
      "metadata": {
        "colab": {
          "base_uri": "https://localhost:8080/"
        },
        "id": "jKDHgxZLbysM",
        "outputId": "8196047f-9a3d-471d-eaf1-e36566017fba"
      },
      "execution_count": 8,
      "outputs": [
        {
          "output_type": "stream",
          "name": "stdout",
          "text": [
            "Epoch    0/20 Batch 1/3 Cost: 40816.613281\n",
            "Epoch    0/20 Batch 2/3 Cost: 16590.255859\n",
            "Epoch    0/20 Batch 3/3 Cost: 7270.024902\n",
            "Epoch    1/20 Batch 1/3 Cost: 782.323303\n",
            "Epoch    1/20 Batch 2/3 Cost: 565.568848\n",
            "Epoch    1/20 Batch 3/3 Cost: 132.735809\n",
            "Epoch    2/20 Batch 1/3 Cost: 40.959137\n",
            "Epoch    2/20 Batch 2/3 Cost: 9.615343\n",
            "Epoch    2/20 Batch 3/3 Cost: 0.013683\n",
            "Epoch    3/20 Batch 1/3 Cost: 6.188056\n",
            "Epoch    3/20 Batch 2/3 Cost: 5.742368\n",
            "Epoch    3/20 Batch 3/3 Cost: 0.579565\n",
            "Epoch    4/20 Batch 1/3 Cost: 8.760749\n",
            "Epoch    4/20 Batch 2/3 Cost: 3.356488\n",
            "Epoch    4/20 Batch 3/3 Cost: 2.868551\n",
            "Epoch    5/20 Batch 1/3 Cost: 10.664132\n",
            "Epoch    5/20 Batch 2/3 Cost: 2.600939\n",
            "Epoch    5/20 Batch 3/3 Cost: 2.585768\n",
            "Epoch    6/20 Batch 1/3 Cost: 6.505839\n",
            "Epoch    6/20 Batch 2/3 Cost: 3.819120\n",
            "Epoch    6/20 Batch 3/3 Cost: 1.639256\n",
            "Epoch    7/20 Batch 1/3 Cost: 4.984971\n",
            "Epoch    7/20 Batch 2/3 Cost: 4.199119\n",
            "Epoch    7/20 Batch 3/3 Cost: 1.832294\n",
            "Epoch    8/20 Batch 1/3 Cost: 1.239776\n",
            "Epoch    8/20 Batch 2/3 Cost: 5.147607\n",
            "Epoch    8/20 Batch 3/3 Cost: 7.965959\n",
            "Epoch    9/20 Batch 1/3 Cost: 4.264034\n",
            "Epoch    9/20 Batch 2/3 Cost: 4.143547\n",
            "Epoch    9/20 Batch 3/3 Cost: 2.487879\n",
            "Epoch   10/20 Batch 1/3 Cost: 4.364707\n",
            "Epoch   10/20 Batch 2/3 Cost: 2.849890\n",
            "Epoch   10/20 Batch 3/3 Cost: 7.887427\n",
            "Epoch   11/20 Batch 1/3 Cost: 3.590114\n",
            "Epoch   11/20 Batch 2/3 Cost: 5.457842\n",
            "Epoch   11/20 Batch 3/3 Cost: 4.786291\n",
            "Epoch   12/20 Batch 1/3 Cost: 2.309538\n",
            "Epoch   12/20 Batch 2/3 Cost: 9.696703\n",
            "Epoch   12/20 Batch 3/3 Cost: 1.607489\n",
            "Epoch   13/20 Batch 1/3 Cost: 4.536683\n",
            "Epoch   13/20 Batch 2/3 Cost: 4.075734\n",
            "Epoch   13/20 Batch 3/3 Cost: 2.015355\n",
            "Epoch   14/20 Batch 1/3 Cost: 4.978817\n",
            "Epoch   14/20 Batch 2/3 Cost: 2.947989\n",
            "Epoch   14/20 Batch 3/3 Cost: 4.247300\n",
            "Epoch   15/20 Batch 1/3 Cost: 8.838347\n",
            "Epoch   15/20 Batch 2/3 Cost: 3.216690\n",
            "Epoch   15/20 Batch 3/3 Cost: 2.754954\n",
            "Epoch   16/20 Batch 1/3 Cost: 5.713830\n",
            "Epoch   16/20 Batch 2/3 Cost: 3.448450\n",
            "Epoch   16/20 Batch 3/3 Cost: 3.766037\n",
            "Epoch   17/20 Batch 1/3 Cost: 5.290164\n",
            "Epoch   17/20 Batch 2/3 Cost: 1.626348\n",
            "Epoch   17/20 Batch 3/3 Cost: 8.579672\n",
            "Epoch   18/20 Batch 1/3 Cost: 4.412112\n",
            "Epoch   18/20 Batch 2/3 Cost: 7.035511\n",
            "Epoch   18/20 Batch 3/3 Cost: 4.488041\n",
            "Epoch   19/20 Batch 1/3 Cost: 4.160828\n",
            "Epoch   19/20 Batch 2/3 Cost: 3.971852\n",
            "Epoch   19/20 Batch 3/3 Cost: 2.213710\n",
            "Epoch   20/20 Batch 1/3 Cost: 1.344619\n",
            "Epoch   20/20 Batch 2/3 Cost: 10.688829\n",
            "Epoch   20/20 Batch 3/3 Cost: 2.060839\n"
          ]
        }
      ]
    }
  ]
}